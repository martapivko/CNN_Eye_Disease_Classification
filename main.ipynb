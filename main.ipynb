{
 "cells": [
  {
   "cell_type": "code",
   "execution_count": 1,
   "metadata": {},
   "outputs": [
    {
     "name": "stderr",
     "output_type": "stream",
     "text": [
      "2023-05-19 22:45:40.927139: I tensorflow/core/platform/cpu_feature_guard.cc:182] This TensorFlow binary is optimized to use available CPU instructions in performance-critical operations.\n",
      "To enable the following instructions: AVX2 FMA, in other operations, rebuild TensorFlow with the appropriate compiler flags.\n"
     ]
    }
   ],
   "source": [
    "import numpy as np\n",
    "import os\n",
    "from PIL import Image\n",
    "from Augmentation import ToAugmantate"
   ]
  },
  {
   "attachments": {},
   "cell_type": "markdown",
   "metadata": {},
   "source": [
    "## Load data"
   ]
  },
  {
   "cell_type": "code",
   "execution_count": 3,
   "metadata": {},
   "outputs": [],
   "source": [
    "def load_images(path: str) -> list:\n",
    "    content_list = os.listdir(path)\n",
    "    files_list = [os.path.join(path, contet_thing) for contet_thing in content_list if os.path.isfile(os.path.join(path, contet_thing))]\n",
    "    imgs_list = []\n",
    "    for file_path in files_list:\n",
    "        temp_img = Image.open(file_path)\n",
    "        numpy_image = np.asarray(temp_img)\n",
    "        imgs_list.append(numpy_image)\n",
    "    return imgs_list\n",
    "\n",
    "main_path = \"dataset/\"\n",
    "cataract = main_path+\"cataract\"\n",
    "diabetic_retinopathy = main_path+\"diabetic_retinopathy\"\n",
    "glaucoma = main_path+\"glaucoma\"\n",
    "normal = main_path+\"normal\"\n",
    "\n",
    "images_cataract = load_images(cataract)\n",
    "images_diabetic_retinopathy = load_images(diabetic_retinopathy)\n",
    "images_glaucoma = load_images(glaucoma)\n",
    "images_normal = load_images(normal)"
   ]
  },
  {
   "cell_type": "code",
   "execution_count": null,
   "metadata": {},
   "outputs": [],
   "source": [
    "train_data_gen = ToAugmantate()\n",
    "test_data_gen = ToAugmantate(False)"
   ]
  }
 ],
 "metadata": {
  "kernelspec": {
   "display_name": "msipb",
   "language": "python",
   "name": "python3"
  },
  "language_info": {
   "codemirror_mode": {
    "name": "ipython",
    "version": 3
   },
   "file_extension": ".py",
   "mimetype": "text/x-python",
   "name": "python",
   "nbconvert_exporter": "python",
   "pygments_lexer": "ipython3",
   "version": "3.8.10"
  },
  "orig_nbformat": 4
 },
 "nbformat": 4,
 "nbformat_minor": 2
}
