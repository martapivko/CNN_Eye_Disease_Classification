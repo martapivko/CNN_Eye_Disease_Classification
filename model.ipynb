{
 "cells": [
  {
   "cell_type": "code",
   "execution_count": 1,
   "metadata": {},
   "outputs": [
    {
     "ename": "ModuleNotFoundError",
     "evalue": "No module named 'tensorflow'",
     "output_type": "error",
     "traceback": [
      "\u001b[0;31m---------------------------------------------------------------------------\u001b[0m",
      "\u001b[0;31mModuleNotFoundError\u001b[0m                       Traceback (most recent call last)",
      "Cell \u001b[0;32mIn[1], line 2\u001b[0m\n\u001b[1;32m      1\u001b[0m \u001b[39mimport\u001b[39;00m \u001b[39mmatplotlib\u001b[39;00m \u001b[39mas\u001b[39;00m \u001b[39mplt\u001b[39;00m\n\u001b[0;32m----> 2\u001b[0m \u001b[39mimport\u001b[39;00m \u001b[39mtensorflow\u001b[39;00m \u001b[39mas\u001b[39;00m \u001b[39mtf\u001b[39;00m\n\u001b[1;32m      3\u001b[0m \u001b[39mfrom\u001b[39;00m \u001b[39mkeras\u001b[39;00m\u001b[39m.\u001b[39;00m\u001b[39mmodels\u001b[39;00m \u001b[39mimport\u001b[39;00m Sequential\n",
      "\u001b[0;31mModuleNotFoundError\u001b[0m: No module named 'tensorflow'"
     ]
    }
   ],
   "source": [
    "import matplotlib as plt\n",
    "import tensorflow as tf\n",
    "from keras.models import Sequential"
   ]
  },
  {
   "cell_type": "code",
   "execution_count": null,
   "metadata": {},
   "outputs": [],
   "source": [
    "def loss_plot(hist):\n",
    "    train_epochs = list(range(1, len(hist.history['loss']) + 1))\n",
    "    valid_epochs = list(range(1, len(hist.history['val_loss']) + 1))\n",
    "    train_losses = hist.history['loss']\n",
    "    valid_losses = hist.history['val_loss']\n",
    "\n",
    "    train_min_loss = min(dict(zip(train_epochs, train_losses)).items(), key=lambda x: x[1])\n",
    "    valid_min_loss = min(dict(zip(valid_epochs, valid_losses)).items(), key=lambda x: x[1])\n",
    "\n",
    "    plt.plot(train_epochs, hist.history['loss'], linewidth=1, color='blue', label='Training Loss')\n",
    "    plt.plot(train_min_loss[0], train_min_loss[1], color='black', marker='o',\n",
    "             label=f'Training Best Epoch - {train_min_loss[0]}')\n",
    "    plt.plot(valid_epochs, hist.history['val_loss'], linewidth=1, color='red', label='Validation Loss')\n",
    "    plt.plot(valid_min_loss[0], valid_min_loss[1], color='black', marker='o',\n",
    "             label=f'Validation Best Epoch - {valid_min_loss[0]}')\n",
    "    plt.legend(loc='best')\n",
    "    plt.title(label='Training & Validation Loss')\n",
    "    plt.xlabel(xlabel='Epochs')\n",
    "    plt.ylabel(ylabel='Loss')\n",
    "    plt.show()"
   ]
  },
  {
   "cell_type": "code",
   "execution_count": null,
   "metadata": {},
   "outputs": [],
   "source": [
    "def accuracy_plot(hist):\n",
    "  epochs = list(range(1, len(hist.history['accuracy']) + 1))\n",
    "\n",
    "  plt.plot(epochs, hist.history['accuracy'], marker='o', linewidth=1, label='Training Accuracy', color='blue')\n",
    "  plt.plot(epochs, hist.history['val_accuracy'], marker='o', linewidth=1, label='Validation Accuracy', color='red')\n",
    "  plt.title(label='Training & Validation Accuracy')\n",
    "  plt.legend(loc='best')\n",
    "  plt.xlabel(xlabel='Epochs')\n",
    "  plt.ylabel(ylabel='Accuracy')\n",
    "  plt.show()"
   ]
  },
  {
   "cell_type": "code",
   "execution_count": null,
   "metadata": {},
   "outputs": [],
   "source": [
    "model = keras.models.Sequential(layers=[\n",
    "    Conv2D(filters=32, kernel_size=(3, 3), input_shape=(150, 150, 3),\n",
    "           padding='same', activation='relu'),\n",
    "    MaxPooling2D(pool_size=(2, 2)),\n",
    "    Conv2D(filters=64, kernel_size=(3, 3), padding='same', activation='relu'),\n",
    "    MaxPooling2D(pool_size=(2, 2)),\n",
    "    Conv2D(filters=128, kernel_size=(3, 3), padding='same', activation='relu'),\n",
    "    MaxPooling2D(pool_size=(2, 2)),\n",
    "    Conv2D(filters=128, kernel_size=(3, 3), padding='same', activation='relu'),\n",
    "    MaxPooling2D(pool_size=(2, 2)),\n",
    "    Flatten(),\n",
    "    Dropout(rate=0.2),\n",
    "    Dense(units=256, activation='relu'),\n",
    "    Dense(units=4, activation='softmax')\n",
    "])\n",
    "     \n"
   ]
  }
 ],
 "metadata": {
  "kernelspec": {
   "display_name": "Python 3",
   "language": "python",
   "name": "python3"
  },
  "language_info": {
   "codemirror_mode": {
    "name": "ipython",
    "version": 3
   },
   "file_extension": ".py",
   "mimetype": "text/x-python",
   "name": "python",
   "nbconvert_exporter": "python",
   "pygments_lexer": "ipython3",
   "version": "3.10.9"
  },
  "orig_nbformat": 4
 },
 "nbformat": 4,
 "nbformat_minor": 2
}
